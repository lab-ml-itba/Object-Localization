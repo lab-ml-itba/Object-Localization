{
 "cells": [
  {
   "cell_type": "code",
   "execution_count": 1,
   "metadata": {},
   "outputs": [],
   "source": [
    "import glob\n",
    "import xml.etree.ElementTree as ET\n",
    "import numpy as np\n",
    "annotations_folder = 'dataset/ILSVRC/Annotations/CLS-LOC/'\n",
    "synset_file = 'dataset/LOC_synset_mapping.txt'"
   ]
  },
  {
   "cell_type": "code",
   "execution_count": 2,
   "metadata": {},
   "outputs": [],
   "source": [
    "f = open(synset_file,'r')\n",
    "synset_lines = f.readlines()\n",
    "f.close()\n",
    "synset_dict = {}\n",
    "for line in synset_lines:\n",
    "    key = line.replace('\\n','').split()[0]\n",
    "    synset_dict[key] = line.replace('\\n','').replace(key, '').strip()"
   ]
  },
  {
   "cell_type": "code",
   "execution_count": 3,
   "metadata": {},
   "outputs": [],
   "source": [
    "image_classes = list(synset_dict.keys())"
   ]
  },
  {
   "cell_type": "code",
   "execution_count": 4,
   "metadata": {},
   "outputs": [],
   "source": [
    "def get_annotations(xml_file):\n",
    "    xml_root = ET.parse(xml_file).getroot()\n",
    "    width = xml_root.find('size').find('width').text\n",
    "    height = xml_root.find('size').find('height').text\n",
    "    depth = xml_root.find('size').find('depth').text\n",
    "    objects = xml_root.findall('object')\n",
    "    name = objects[0].find('name').text\n",
    "    bboxes = []\n",
    "    for obj in objects:\n",
    "        bbox = obj.find('bndbox')\n",
    "        bboxes.append([int(bbox.find('xmin').text), \n",
    "                       int(bbox.find('ymin').text),\n",
    "                       int(bbox.find('xmax').text),\n",
    "                       int(bbox.find('ymax').text)])\n",
    "    filename = xml_root.find('filename').text\n",
    "    return int(width), int(height), int(depth), bboxes, filename, name"
   ]
  },
  {
   "cell_type": "code",
   "execution_count": 5,
   "metadata": {},
   "outputs": [],
   "source": [
    "def get_class_xml_files(img_class, dataset='train'):\n",
    "    xml_class_files = glob.glob(annotations_folder+dataset+'/'+img_class+'/'+'*.xml')\n",
    "    return xml_class_files"
   ]
  },
  {
   "cell_type": "code",
   "execution_count": 6,
   "metadata": {},
   "outputs": [],
   "source": [
    "def create_dict(img_class, annotations_dict, dataset='train'):\n",
    "    xml_class_files = get_class_xml_files(img_class, dataset)\n",
    "    for xml_file in xml_class_files:\n",
    "        width, height, depth, bboxes, filename, name = get_annotations(xml_file)\n",
    "        if img_class not in annotations_dict:\n",
    "            annotations_dict[img_class] = {}\n",
    "        annotations_dict[img_class][filename] = {}\n",
    "        annotations_dict[img_class][filename]['width'] = width\n",
    "        annotations_dict[img_class][filename]['height'] = height\n",
    "        annotations_dict[img_class][filename]['depth'] = depth\n",
    "        annotations_dict[img_class][filename]['bounding_boxes'] = bboxes"
   ]
  },
  {
   "cell_type": "code",
   "execution_count": 7,
   "metadata": {},
   "outputs": [
    {
     "name": "stdout",
     "output_type": "stream",
     "text": [
      "n01440764 done; n01443537 done; n01484850 done; n01491361 done; n01494475 done; n01496331 done; n01498041 done; n01514668 done; n01514859 done; n01518878 done; n01530575 done; n01531178 done; n01532829 done; n01534433 done; n01537544 done; n01558993 done; n01560419 done; n01580077 done; n01582220 done; n01592084 done; n01601694 done; n01608432 done; n01614925 done; n01616318 done; n01622779 done; n01629819 done; n01630670 done; n01631663 done; n01632458 done; n01632777 done; n01641577 done; n01644373 done; n01644900 done; n01664065 done; n01665541 done; n01667114 done; n01667778 done; n01669191 done; n01675722 done; n01677366 done; n01682714 done; n01685808 done; n01687978 done; n01688243 done; n01689811 done; n01692333 done; n01693334 done; n01694178 done; n01695060 done; n01697457 done; n01698640 done; n01704323 done; n01728572 done; n01728920 done; n01729322 done; n01729977 done; n01734418 done; n01735189 done; n01737021 done; n01739381 done; n01740131 done; n01742172 done; n01744401 done; n01748264 done; n01749939 done; n01751748 done; n01753488 done; n01755581 done; n01756291 done; n01768244 done; n01770081 done; n01770393 done; n01773157 done; n01773549 done; n01773797 done; n01774384 done; n01774750 done; n01775062 done; n01776313 done; n01784675 done; n01795545 done; n01796340 done; n01797886 done; n01798484 done; n01806143 done; n01806567 done; n01807496 done; n01817953 done; n01818515 done; n01819313 done; n01820546 done; n01824575 done; n01828970 done; n01829413 done; n01833805 done; n01843065 done; n01843383 done; n01847000 done; n01855032 done; n01855672 done; n01860187 done; n01871265 done; n01872401 done; n01873310 done; n01877812 done; n01882714 done; n01883070 done; n01910747 done; n01914609 done; n01917289 done; n01924916 done; n01930112 done; n01943899 done; n01944390 done; n01945685 done; n01950731 done; n01955084 done; n01968897 done; n01978287 done; n01978455 done; n01980166 done; n01981276 done; n01983481 done; n01984695 done; n01985128 done; n01986214 done; n01990800 done; n02002556 done; n02002724 done; n02006656 done; n02007558 done; n02009229 done; n02009912 done; n02011460 done; n02012849 done; n02013706 done; n02017213 done; n02018207 done; n02018795 done; n02025239 done; n02027492 done; n02028035 done; n02033041 done; n02037110 done; n02051845 done; n02056570 done; n02058221 done; n02066245 done; n02071294 done; n02074367 done; n02077923 done; n02085620 done; n02085782 done; n02085936 done; n02086079 done; n02086240 done; n02086646 done; n02086910 done; n02087046 done; n02087394 done; n02088094 done; n02088238 done; n02088364 done; n02088466 done; n02088632 done; n02089078 done; n02089867 done; n02089973 done; n02090379 done; n02090622 done; n02090721 done; n02091032 done; n02091134 done; n02091244 done; n02091467 done; n02091635 done; n02091831 done; n02092002 done; n02092339 done; n02093256 done; n02093428 done; n02093647 done; n02093754 done; n02093859 done; n02093991 done; n02094114 done; n02094258 done; n02094433 done; n02095314 done; n02095570 done; n02095889 done; n02096051 done; n02096177 done; n02096294 done; n02096437 done; n02096585 done; n02097047 done; n02097130 done; n02097209 done; n02097298 done; n02097474 done; n02097658 done; n02098105 done; n02098286 done; n02098413 done; n02099267 done; n02099429 done; n02099601 done; n02099712 done; n02099849 done; n02100236 done; n02100583 done; n02100735 done; n02100877 done; n02101006 done; n02101388 done; n02101556 done; n02102040 done; n02102177 done; n02102318 done; n02102480 done; n02102973 done; n02104029 done; n02104365 done; n02105056 done; n02105162 done; n02105251 done; n02105412 done; n02105505 done; n02105641 done; n02105855 done; n02106030 done; n02106166 done; n02106382 done; n02106550 done; n02106662 done; n02107142 done; n02107312 done; n02107574 done; n02107683 done; n02107908 done; n02108000 done; n02108089 done; n02108422 done; n02108551 done; n02108915 done; n02109047 done; n02109525 done; n02109961 done; n02110063 done; n02110185 done; n02110341 done; n02110627 done; n02110806 done; n02110958 done; n02111129 done; n02111277 done; n02111500 done; n02111889 done; n02112018 done; n02112137 done; n02112350 done; n02112706 done; n02113023 done; n02113186 done; n02113624 done; n02113712 done; n02113799 done; n02113978 done; n02114367 done; n02114548 done; n02114712 done; n02114855 done; n02115641 done; n02115913 done; n02116738 done; n02117135 done; n02119022 done; n02119789 done; n02120079 done; n02120505 done; n02123045 done; n02123159 done; n02123394 done; n02123597 done; n02124075 done; n02125311 done; n02127052 done; n02128385 done; n02128757 done; n02128925 done; n02129165 done; n02129604 done; n02130308 done; n02132136 done; n02133161 done; n02134084 done; n02134418 done; n02137549 done; n02138441 done; n02165105 done; n02165456 done; n02167151 done; n02168699 done; n02169497 done; n02172182 done; n02174001 done; n02177972 done; n02190166 done; n02206856 done; n02219486 done; n02226429 done; n02229544 done; n02231487 done; n02233338 done; n02236044 done; n02256656 done; n02259212 done; n02264363 done; n02268443 done; n02268853 done; n02276258 done; n02277742 done; n02279972 done; n02280649 done; n02281406 done; n02281787 done; n02317335 done; n02319095 done; n02321529 done; n02325366 done; n02326432 done; n02328150 done; n02342885 done; n02346627 done; n02356798 done; n02361337 done; n02363005 done; n02364673 done; n02389026 done; n02391049 done; n02395406 done; n02396427 done; n02397096 done; n02398521 done; n02403003 done; n02408429 done; n02410509 done; n02412080 done; n02415577 done; n02417914 done; n02422106 done; n02422699 done; n02423022 done; n02437312 done; n02437616 done; n02441942 done; n02442845 done; n02443114 done; n02443484 done; n02444819 done; n02445715 done; n02447366 done; n02454379 done; n02457408 done; n02480495 done; n02480855 done; n02481823 done; n02483362 done; n02483708 done; n02484975 done; n02486261 done; n02486410 done; n02487347 done; n02488291 done; n02488702 done; n02489166 done; n02490219 done; n02492035 done; n02492660 done; n02493509 done; n02493793 done; n02494079 done; n02497673 done; n02500267 done; n02504013 done; n02504458 done; n02509815 done; n02510455 done; n02514041 done; n02526121 done; n02536864 done; n02606052 done; n02607072 done; n02640242 done; n02641379 done; n02643566 done; n02655020 done; n02666196 done; n02667093 done; n02669723 done; n02672831 done; n02676566 done; n02687172 done; n02690373 done; n02692877 done; n02699494 done; n02701002 done; n02704792 done; n02708093 done; n02727426 done; n02730930 done; n02747177 done; n02749479 done; n02769748 done; n02776631 done; n02777292 done; n02782093 done; n02783161 done; n02786058 done; n02787622 done; n02788148 done; n02790996 done; n02791124 done; n02791270 done; n02793495 done; n02794156 done; n02795169 done; n02797295 done; n02799071 done; n02802426 done; n02804414 done; n02804610 done; n02807133 done; n02808304 done; n02808440 done; n02814533 done; n02814860 done; n02815834 done; n02817516 done; n02823428 done; n02823750 done; n02825657 done; n02834397 done; n02835271 done; n02837789 done; n02840245 done; n02841315 done; n02843684 done; n02859443 done; n02860847 done; n02865351 done; n02869837 done; n02870880 done; n02871525 done; n02877765 done; n02879718 done; n02883205 done; n02892201 done; n02892767 done; n02894605 done; n02895154 done; n02906734 done; n02909870 done; n02910353 done; n02916936 done; n02917067 done; n02927161 done; n02930766 done; n02939185 done; n02948072 done; n02950826 done; n02951358 done; n02951585 done; n02963159 done; n02965783 done; n02966193 done; n02966687 done; n02971356 done; n02974003 done; n02977058 done; n02978881 done; n02979186 done; n02980441 done; n02981792 done; n02988304 done; n02992211 done; n02992529 done; n02999410 done; n03000134 done; n03000247 done; n03000684 done; n03014705 done; n03016953 done; n03017168 done; n03018349 done; n03026506 done; n03028079 done; n03032252 done; n03041632 done; n03042490 done; n03045698 done; n03047690 done; n03062245 done; n03063599 done; n03063689 done; n03065424 done; n03075370 done; n03085013 done; n03089624 done; n03095699 done; n03100240 done; n03109150 done; n03110669 done; n03124043 done; n03124170 done; n03125729 done; n03126707 done; n03127747 done; n03127925 done; n03131574 done; n03133878 done; n03134739 done; n03141823 done; n03146219 done; n03160309 done; n03179701 done; n03180011 done; n03187595 done; n03188531 done; n03196217 done; n03197337 done; n03201208 done; n03207743 done; n03207941 done; n03208938 done; n03216828 done; n03218198 done; n03220513 done; n03223299 done; n03240683 done; n03249569 done; n03250847 done; n03255030 done; n03259280 done; n03271574 done; n03272010 done; n03272562 done; n03290653 done; n03291819 done; n03297495 done; n03314780 done; n03325584 done; n03337140 done; n03344393 done; n03345487 done; n03347037 done; n03355925 done; n03372029 done; n03376595 done; n03379051 done; n03384352 done; n03388043 done; n03388183 done; n03388549 done; n03393912 done; n03394916 done; n03400231 done; n03404251 done; n03417042 done; n03424325 done; n03425413 done; n03443371 done; n03444034 done; n03445777 done; n03445924 done; n03447447 done; n03447721 done; n03450230 done; n03452741 done; n03457902 done; n03459775 done; n03461385 done; n03467068 done; n03476684 done; n03476991 done; n03478589 done; n03481172 done; n03482405 done; n03483316 done; n03485407 done; n03485794 done; n03492542 done; n03494278 done; n03495258 done; n03496892 done; n03498962 done; n03527444 done; n03529860 done; n03530642 done; n03532672 done; n03534580 done; n03535780 done; n03538406 done; n03544143 done; n03584254 done; n03584829 done; n03590841 done; n03594734 done; n03594945 done; n03595614 done; n03598930 done; n03599486 done; n03602883 done; n03617480 done; n03623198 done; n03627232 done; n03630383 done; n03633091 done; n03637318 done; n03642806 done; n03649909 done; n03657121 done; n03658185 done; n03661043 done; n03662601 done; n03666591 done; n03670208 done; n03673027 done; n03676483 done; n03680355 done; n03690938 done; n03691459 done; n03692522 done; n03697007 done; n03706229 done; n03709823 done; n03710193 done; n03710637 done; n03710721 done; n03717622 done; n03720891 done; n03721384 done; n03724870 done; n03729826 done; n03733131 done; n03733281 done; n03733805 done; n03742115 done; n03743016 done; n03759954 done; n03761084 done; n03763968 done; n03764736 done; n03769881 done; n03770439 done; n03770679 done; n03773504 done; n03775071 done; n03775546 done; n03776460 done; n03777568 done; n03777754 done; n03781244 done; n03782006 done; n03785016 done; n03786901 done; n03787032 done; n03788195 done; n03788365 done; n03791053 done; n03792782 done; n03792972 done; n03793489 done; n03794056 done; n03796401 done; n03803284 done; n03804744 done; n03814639 done; n03814906 done; n03825788 done; n03832673 done; n03837869 done; n03838899 done; n03840681 done; n03841143 done; n03843555 done; n03854065 done; n03857828 done; n03866082 done; n03868242 done; n03868863 done; n03871628 done; n03873416 done; n03874293 done; n03874599 done; n03876231 done; n03877472 done; n03877845 done; n03884397 done; n03887697 done; n03888257 done; n03888605 done; n03891251 done; n03891332 done; n03895866 done; n03899768 done; n03902125 done; n03903868 done; n03908618 done; n03908714 done; n03916031 done; n03920288 done; n03924679 done; n03929660 done; n03929855 done; n03930313 done; n03930630 done; n03933933 done; n03935335 done; n03937543 done; n03938244 done; n03942813 done; n03944341 done; n03947888 done; n03950228 done; n03954731 done; n03956157 done; n03958227 done; n03961711 done; n03967562 done; n03970156 done; n03976467 done; n03976657 done; n03977966 done; n03980874 done; n03982430 done; n03983396 done; n03991062 done; n03992509 done; n03995372 done; n03998194 done; n04004767 done; n04005630 done; n04008634 done; n04009552 done; n04019541 done; n04023962 done; n04026417 done; n04033901 done; n04033995 done; n04037443 done; n04039381 done; n04040759 done; n04041544 done; n04044716 done; n04049303 done; n04065272 done; n04067472 done; n04069434 done; n04070727 done; n04074963 done; n04081281 done; n04086273 done; n04090263 done; n04099969 done; n04111531 done; n04116512 done; n04118538 done; n04118776 done; n04120489 done; n04125021 done; n04127249 done; n04131690 done; n04133789 done; n04136333 done; n04141076 done; n04141327 done; n04141975 done; n04146614 done; n04147183 done; n04149813 done; n04152593 done; n04153751 done; n04154565 done; n04162706 done; n04179913 done; n04192698 done; n04200800 done; n04201297 done; n04204238 done; n04204347 done; n04208210 done; n04209133 done; n04209239 done; n04228054 done; n04229816 done; n04235860 done; n04238763 done; n04239074 done; n04243546 done; n04251144 done; n04252077 done; n04252225 done; n04254120 done; n04254680 done; n04254777 done; n04258138 done; n04259630 done; n04263257 done; n04264628 done; n04265275 done; n04266014 done; n04270147 done; n04273569 done; n04275548 done; n04277352 done; n04285008 done; n04286575 done; n04296562 done; n04310018 done; n04311004 done; n04311174 done; n04317175 done; n04325704 done; n04326547 done; n04328186 done; n04330267 done; n04332243 done; n04335435 done; n04336792 done; n04344873 done; n04346328 done; n04347754 done; n04350905 done; n04355338 done; n04355933 done; n04356056 done; n04357314 done; n04366367 done; n04367480 done; n04370456 done; n04371430 done; n04371774 done; n04372370 done; n04376876 done; n04380533 done; n04389033 done; n04392985 done; n04398044 done; n04399382 done; n04404412 done; n04409515 done; n04417672 done; n04418357 done; n04423845 done; n04428191 done; n04429376 done; n04435653 done; n04442312 done; n04443257 done; n04447861 done; n04456115 done; n04458633 done; n04461696 done; n04462240 done; n04465501 done; n04467665 done; n04476259 done; n04479046 done; n04482393 done; n04483307 done; n04485082 done; n04486054 done; n04487081 done; n04487394 done; n04493381 done; n04501370 done; n04505470 done; n04507155 done; n04509417 done; n04515003 done; n04517823 done; n04522168 done; n04523525 done; n04525038 done; n04525305 done; n04532106 done; n04532670 done; n04536866 done; n04540053 done; n04542943 done; n04548280 done; n04548362 done; n04550184 done; n04552348 done; n04553703 done; n04554684 done; n04557648 done; n04560804 done; n04562935 done; n04579145 done; n04579432 done; n04584207 done; n04589890 done; n04590129 done; n04591157 done; n04591713 done; n04592741 done; n04596742 done; n04597913 done; n04599235 done; n04604644 done; n04606251 done; n04612504 done; n04613696 done; n06359193 done; n06596364 done; n06785654 done; n06794110 done; n06874185 done; n07248320 done; n07565083 done; n07579787 done; n07583066 done; n07584110 done; n07590611 done; n07613480 done; n07614500 done; n07615774 done; n07684084 done; n07693725 done; n07695742 done; n07697313 done; n07697537 done; n07711569 done; n07714571 done; n07714990 done; n07715103 done; n07716358 done; n07716906 done; n07717410 done; n07717556 done; n07718472 done; n07718747 done; n07720875 done; n07730033 done; n07734744 done; n07742313 done; n07745940 done; n07747607 done; n07749582 done; n07753113 done; n07753275 done; n07753592 done; n07754684 done; n07760859 done; n07768694 done; n07802026 done; n07831146 done; n07836838 done; n07860988 done; n07871810 done; n07873807 done; n07875152 done; n07880968 done; n07892512 done; n07920052 done; n07930864 done; n07932039 done; n09193705 done; n09229709 done; n09246464 done; n09256479 done; n09288635 done; n09332890 done; n09399592 done; n09421951 done; n09428293 done; n09468604 done; n09472597 done; n09835506 done; n10148035 done; n10565667 done; n11879895 done; n11939491 done; n12057211 done; n12144580 done; n12267677 done; n12620546 done; n12768682 done; n12985857 done; n12998815 done; n13037406 done; n13040303 done; n13044778 done; n13052670 done; n13054560 done; n13133613 done; n15075141 done; "
     ]
    }
   ],
   "source": [
    "dataset = 'train'\n",
    "annotations_dict = {}\n",
    "for img_class in image_classes:\n",
    "    create_dict(img_class, annotations_dict, dataset)\n",
    "    print(img_class, 'done', end='; ')"
   ]
  },
  {
   "cell_type": "code",
   "execution_count": 8,
   "metadata": {},
   "outputs": [],
   "source": [
    "np.save('annotations_train.npy', annotations_dict)"
   ]
  },
  {
   "cell_type": "code",
   "execution_count": 9,
   "metadata": {},
   "outputs": [],
   "source": [
    "def get_val_annotations():\n",
    "    annotations_dict = {}\n",
    "    for filename in glob.glob(annotations_folder+'val'+'/'+'*.xml'):\n",
    "        width, height, depth, bboxes, filename, img_class = get_annotations(filename)\n",
    "        if img_class not in annotations_dict:\n",
    "            annotations_dict[img_class] = {}\n",
    "        annotations_dict[img_class][filename] = {}\n",
    "        annotations_dict[img_class][filename]['width'] = width\n",
    "        annotations_dict[img_class][filename]['height'] = height\n",
    "        annotations_dict[img_class][filename]['depth'] = depth\n",
    "        annotations_dict[img_class][filename]['bounding_boxes'] = bboxes\n",
    "    return annotations_dict"
   ]
  },
  {
   "cell_type": "code",
   "execution_count": 10,
   "metadata": {},
   "outputs": [],
   "source": [
    "annotations_val_dict = get_val_annotations()"
   ]
  },
  {
   "cell_type": "code",
   "execution_count": 11,
   "metadata": {},
   "outputs": [],
   "source": [
    "np.save('annotations_val.npy', annotations_val_dict)"
   ]
  }
 ],
 "metadata": {
  "kernelspec": {
   "display_name": "Python 3",
   "language": "python",
   "name": "python3"
  },
  "language_info": {
   "codemirror_mode": {
    "name": "ipython",
    "version": 3
   },
   "file_extension": ".py",
   "mimetype": "text/x-python",
   "name": "python",
   "nbconvert_exporter": "python",
   "pygments_lexer": "ipython3",
   "version": "3.6.6"
  }
 },
 "nbformat": 4,
 "nbformat_minor": 2
}
