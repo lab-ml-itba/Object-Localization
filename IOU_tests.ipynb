{
 "cells": [
  {
   "cell_type": "code",
   "execution_count": null,
   "metadata": {},
   "outputs": [],
   "source": [
    "from tensorflow"
   ]
  },
  {
   "cell_type": "code",
   "execution_count": 180,
   "metadata": {},
   "outputs": [],
   "source": [
    "import numpy as np"
   ]
  },
  {
   "cell_type": "code",
   "execution_count": 181,
   "metadata": {},
   "outputs": [],
   "source": [
    "from object_loc_helper import getIUO"
   ]
  },
  {
   "cell_type": "code",
   "execution_count": 141,
   "metadata": {},
   "outputs": [],
   "source": [
    "width = 1000\n",
    "height = 500\n",
    "bb_pred = np.array([100, 100, 900, 900])\n",
    "bb_gt = np.array([50,50,800,800])"
   ]
  },
  {
   "cell_type": "code",
   "execution_count": 183,
   "metadata": {},
   "outputs": [
    {
     "data": {
      "text/plain": [
       "(array([0.6877193]), array([[100, 100, 800, 800]]))"
      ]
     },
     "execution_count": 183,
     "metadata": {},
     "output_type": "execute_result"
    }
   ],
   "source": [
    "getIUO(np.array([bb_gt]), np.array([bb_pred]))"
   ]
  },
  {
   "cell_type": "code",
   "execution_count": 142,
   "metadata": {},
   "outputs": [
    {
     "data": {
      "text/plain": [
       "(array([100, 100, 900, 900]), array([ 50,  50, 800, 800]))"
      ]
     },
     "execution_count": 142,
     "metadata": {},
     "output_type": "execute_result"
    }
   ],
   "source": [
    "bb_pred, bb_gt"
   ]
  },
  {
   "cell_type": "code",
   "execution_count": 151,
   "metadata": {},
   "outputs": [],
   "source": [
    "x = np.linspace(0, width-1, width )\n",
    "y = np.linspace(0, height-1, height )"
   ]
  },
  {
   "cell_type": "code",
   "execution_count": 153,
   "metadata": {},
   "outputs": [],
   "source": [
    "xt = (y - bb_pred[0]) * (y > bb_pred[0]) * (bb_pred[2] > y)\n",
    "xb = (bb_pred[2] - y) * (bb_pred[2] > y) * (y > bb_pred[0])\n",
    "xl = (x - bb_pred[1]) * (x > bb_pred[1]) * (bb_pred[3] > x)\n",
    "xr = (bb_pred[3] - x) * (bb_pred[3] > x) * (x > bb_pred[1])"
   ]
  },
  {
   "cell_type": "code",
   "execution_count": 154,
   "metadata": {},
   "outputs": [],
   "source": [
    "xt_ = (y - bb_gt[0]) * (y > bb_gt[0]) * (bb_gt[2] > y)\n",
    "xb_ = (bb_gt[2] - y) * (bb_gt[2] > y) * (y > bb_gt[0])\n",
    "xl_ = (x - bb_gt[1]) * (x > bb_gt[1]) * (bb_gt[3] > x)\n",
    "xr_ = (bb_gt[3] - x) * (bb_gt[3] > x) * (x > bb_gt[1])"
   ]
  },
  {
   "cell_type": "code",
   "execution_count": 155,
   "metadata": {},
   "outputs": [],
   "source": [
    "X = (xl + xr).reshape(-1,1).dot((xt + xb).reshape(1,-1))\n",
    "X_ = (xl_ + xr_).reshape(-1,1).dot((xt_ + xb_).reshape(1,-1))"
   ]
  },
  {
   "cell_type": "code",
   "execution_count": 156,
   "metadata": {},
   "outputs": [],
   "source": [
    "Ih = np.min([xt_, xt], axis=0) + np.min([xb_, xb], axis=0)\n",
    "Iw = np.min([xl_, xl], axis=0) + np.min([xr_, xr], axis=0)"
   ]
  },
  {
   "cell_type": "code",
   "execution_count": 164,
   "metadata": {},
   "outputs": [],
   "source": [
    "I = Iw.reshape(-1,1).dot(Ih.reshape(1,-1))"
   ]
  },
  {
   "cell_type": "code",
   "execution_count": 168,
   "metadata": {},
   "outputs": [],
   "source": [
    "U = X + X_ - I"
   ]
  },
  {
   "cell_type": "code",
   "execution_count": 175,
   "metadata": {},
   "outputs": [],
   "source": [
    "U[U==0] = 1"
   ]
  },
  {
   "cell_type": "code",
   "execution_count": 176,
   "metadata": {},
   "outputs": [],
   "source": [
    "IoU = I/U"
   ]
  },
  {
   "cell_type": "code",
   "execution_count": 179,
   "metadata": {},
   "outputs": [
    {
     "data": {
      "text/plain": [
       "array([0.6877193, 0.6877193, 0.6877193, ..., 0.6877193, 0.6877193,\n",
       "       0.6877193])"
      ]
     },
     "execution_count": 179,
     "metadata": {},
     "output_type": "execute_result"
    }
   ],
   "source": [
    "IoU[IoU.nonzero()]"
   ]
  }
 ],
 "metadata": {
  "kernelspec": {
   "display_name": "Python 3",
   "language": "python",
   "name": "python3"
  },
  "language_info": {
   "codemirror_mode": {
    "name": "ipython",
    "version": 3
   },
   "file_extension": ".py",
   "mimetype": "text/x-python",
   "name": "python",
   "nbconvert_exporter": "python",
   "pygments_lexer": "ipython3",
   "version": "3.6.6"
  }
 },
 "nbformat": 4,
 "nbformat_minor": 2
}
